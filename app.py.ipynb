{
 "cells": [
  {
   "cell_type": "markdown",
   "metadata": {},
   "source": [
    "## Step 2 - Climate App"
   ]
  },
  {
   "cell_type": "markdown",
   "metadata": {},
   "source": [
    " Design a Flask API based on the queries saved in 'climate_starter.ipynb'\n",
    " \n",
    "* Routes\n",
    "       * `/`\n",
    "           * Home page.\n",
    "           * List all routes that are available.\n",
    "       * `/api/v1.0/precipitation`\n",
    "           * Convert the query results to a Dictionary using `date` as the key and `prcp` as the value.\n",
    "           * Return the JSON representation of your dictionary.\n",
    "       * `/api/v1.0/stations`\n",
    "           * Return a JSON list of stations from the dataset.\n",
    "       * `/api/v1.0/tobs`\n",
    "           * Query the dates and temperature observations of the most active station for the last year of data.\n",
    "           * Return a JSON list of Temperature Observations (tobs) for the previous year\n",
    "       * `/api/v1.0/<start>` and `/api/v1.0/<start>/<end>`\n",
    "           * Return a JSON list of the minimum temperature, the average temperature, and\n",
    "               the max temperature for a given start or start-end range.\n",
    "           * When given the start only, calculate `TMIN`, `TAVG`, and `TMAX` for all dates \n",
    "               greater than and equal to the start date.\n",
    "           * When given the start and the end date, calculate the `TMIN`, `TAVG`, and `TMAX` \n",
    "               for dates between the start and end date inclusive."
   ]
  },
  {
   "cell_type": "code",
   "execution_count": 1,
   "metadata": {},
   "outputs": [],
   "source": [
    "# Import Dependencies \n",
    "import pandas as pd\n",
    "import numpy as np\n",
    "\n",
    "import datetime as dt\n",
    "\n",
    "import sqlalchemy\n",
    "from sqlalchemy.ext.automap import automap_base\n",
    "from sqlalchemy.orm import Session\n",
    "from sqlalchemy import create_engine, func\n",
    "\n",
    "from flask import Flask, jsonify"
   ]
  },
  {
   "cell_type": "code",
   "execution_count": 2,
   "metadata": {},
   "outputs": [],
   "source": [
    "# Database setup\n",
    "engine = create_engine(\"sqlite:///Resources/hawaii.sqlite\")\n",
    "\n",
    "# Reflect an existing database into a new model\n",
    "Base = automap_base()\n",
    "\n",
    "# Reflect the tables\n",
    "Base.prepare(engine, reflect=True)\n",
    "\n",
    "# Save reference to the tables\n",
    "Measurement = Base.classes.measurement\n",
    "Station = Base.classes.station\n",
    "\n",
    "# Create our session (link) from Python to the DB\n",
    "session = Session(engine)\n",
    "\n",
    "# Flask Setup:\n",
    "app = Flask(__name__)"
   ]
  },
  {
   "cell_type": "code",
   "execution_count": 3,
   "metadata": {},
   "outputs": [],
   "source": [
    "# Home page.\n",
    "# List all routes that are available.\n",
    "\n",
    "@app.route(\"/\")\n",
    "def home_page():\n",
    "    return (\n",
    "        f\"<div align='center'><h1>Climate App</h1><br/></div>\"\n",
    "        f\"<p>Usage:</p>\"\n",
    "        f\"/api/v1.0/precipitation<br/>Precipitation data for the dates between 8/23/16 and 8/23/17<br/><br/>\"\n",
    "        f\"/api/v1.0/stations<br/>Station numbers and names:<br/><br/>\"\n",
    "        f\"/api/v1.0/tobs<br/>Temperature Observations for each station for the dates between 8/23/16 and 8/23/17<br/><br/>\"\n",
    "        f\"/api/v1.0/date<br/>Minimum temperature, the average temperature, and the max temperature for the dates between the given start date and 8/23/17<br/><br/>.\"\n",
    "        f\"/api/v1.0/start_date/end_date<br/>Minimum temperature, the average temperature, and the max temperature for the dates between the given start date and end date<br/><br/>.\"\n",
    "    )"
   ]
  },
  {
   "cell_type": "code",
   "execution_count": 4,
   "metadata": {},
   "outputs": [],
   "source": [
    "# Convert the query results to a dictionary using date as the key and prcp as the value.\n",
    "# Return the JSON representation of your dictionary.\n",
    "\n",
    "@app.route(\"/api/v1.0/precipitation\")  \n",
    "def precipitation():\n",
    "    last_yr = dt.date(2017,8,23) - dt.timedelta(days = 365)\n",
    "    last_day = session.query(Measurement.date).order_by(Measurement.date.desc()).first()\n",
    "    precipitation = session.query(Measurement.date, Measurement.prcp).\\\n",
    "        filter(Measurement.date > last_yr).order_by(Measurement.date).all()\n",
    "\n",
    "    precipitation_data = []\n",
    "    for i in precipitation:\n",
    "        data = {}\n",
    "        data['date'] = precipitation[0]\n",
    "        data['prcp'] = precipitation[1]\n",
    "        precipitation_data.append(data)\n",
    "    return jsonify(precipitation_data)"
   ]
  },
  {
   "cell_type": "code",
   "execution_count": 5,
   "metadata": {},
   "outputs": [
    {
     "ename": "IndentationError",
     "evalue": "unexpected indent (<ipython-input-5-4e94d9638cec>, line 3)",
     "output_type": "error",
     "traceback": [
      "\u001b[1;36m  File \u001b[1;32m\"<ipython-input-5-4e94d9638cec>\"\u001b[1;36m, line \u001b[1;32m3\u001b[0m\n\u001b[1;33m    station_results = session.query(Stations.station).all()\u001b[0m\n\u001b[1;37m    ^\u001b[0m\n\u001b[1;31mIndentationError\u001b[0m\u001b[1;31m:\u001b[0m unexpected indent\n"
     ]
    }
   ],
   "source": [
    "## Return a JSON list of stations from the dataset.\n",
    "@app.route(\"/api/v1.0/stations\")\n",
    "    station_results = session.query(Stations.station).all()\n",
    "    station_all = list(np.ravel(results))\n",
    "    return jsonify(station_all)"
   ]
  },
  {
   "cell_type": "code",
   "execution_count": null,
   "metadata": {},
   "outputs": [],
   "source": [
    "# Query the dates and temperature observations of the most active station for the last year of data.\n",
    "# Return a JSON list of Temperature Observations (tobs) for the previous year.\n",
    "\n",
    "@app.route(\"/api/v1.0/tobs\")\n",
    "def tobs():\n",
    "    prev_year = dt.date(2017, 8, 23) - dt.timedelta(days=365)\n",
    "    station_tobs = session.query(Measurement.tobs, Measurement.date).\\\n",
    "    filter(Measurement.station == 'USC00519281', Measurement.date >= prev_year).all()\n",
    "    tobs_list = []\n",
    "    for i in range(len(station_tobs)):\n",
    "        station_list.append({'tobs':station_tobs[i][3],'date':station_tobs[i][1]})\n",
    "    return jsonify(tobs_list)"
   ]
  },
  {
   "cell_type": "code",
   "execution_count": null,
   "metadata": {},
   "outputs": [],
   "source": [
    "# Return a JSON list of the minimum temperature, the average temperature, and the max temperature for \n",
    "# a given start or start-end range.\n",
    "# When given the start only, calculate TMIN, TAVG, and TMAX for all dates greater than and equal to the start date.\n",
    "# When given the start and the end date, calculate the TMIN, TAVG, and TMAX for dates between the start and end date inclusive.\n",
    "\n",
    "@app.route(\"/api/v1.0/<start>\")\n",
    "def temps_start(start):\n",
    "    start = datetime.strptime('2016-08-23', '%Y-%m-%d').date()\n",
    "    start_results = session.query(func.avg(Measurement.tobs),func.max(Measurement.tobs),func.min(Measurement.tobs).\\\n",
    "               filter(Measurement.date >= start)\n",
    "    start_tobs_list = []   \n",
    "    for i in start_results:\n",
    "       dict = {}\n",
    "       dict[\"TMIN\"] = float(tobs[1])                     \n",
    "       dict[\"TMAX\"] = float(tobs[0])\n",
    "       dict[\"TAVG\"] = float(tobs[2])\n",
    "       start_tobs_list.append(dict)\n",
    "    return jsonify(start_tobs_list)"
   ]
  },
  {
   "cell_type": "code",
   "execution_count": null,
   "metadata": {},
   "outputs": [],
   "source": [
    "@app.route(\"/api/v1.0/<start>/<end>\")\n",
    "def calc_temps_end(start,end):\n",
    "    start = datetime.strptime('2016-08-23', '%Y-%m-%d').date()\n",
    "    end = datetime.strptime('2017-08-23', '%Y-%m-%d').date()\n",
    "    end_results = session.query(func.avg(Measurement.tobs),func.max(Measurement.tobs),func.min(Measurement.tobs).\\\n",
    "               filter(Measurement.date >= start)                     \n",
    "    start_end_tobs_list = []\n",
    "    for i in start_end_tobs_list:\n",
    "       dict = {}\n",
    "       dict[\"TMIN\"] = float(tobs[1])                     \n",
    "       dict[\"TMAX\"] = float(tobs[0])\n",
    "       dict[\"TAVG\"] = float(tobs[2])\n",
    "       start_end_tobs_list.append(dict)\n",
    "    return jsonify(start__end_tobs_list)"
   ]
  },
  {
   "cell_type": "code",
   "execution_count": null,
   "metadata": {},
   "outputs": [],
   "source": [
    "if __name__ == \"__main__\":\n",
    "    app.run(debug=True)"
   ]
  }
 ],
 "metadata": {
  "kernelspec": {
   "display_name": "Python 3",
   "language": "python",
   "name": "python3"
  },
  "language_info": {
   "codemirror_mode": {
    "name": "ipython",
    "version": 3
   },
   "file_extension": ".py",
   "mimetype": "text/x-python",
   "name": "python",
   "nbconvert_exporter": "python",
   "pygments_lexer": "ipython3",
   "version": "3.8.5"
  }
 },
 "nbformat": 4,
 "nbformat_minor": 4
}
