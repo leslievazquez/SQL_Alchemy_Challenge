{
 "cells": [
  {
   "cell_type": "markdown",
   "metadata": {},
   "source": [
    "## Step 2 - Climate App"
   ]
  },
  {
   "cell_type": "markdown",
   "metadata": {},
   "source": [
    "#### Design a Flask API based on the queries saved in 'climate_starter.ipynb'\n",
    " \n",
    "* Routes\n",
    "       * `/`\n",
    "           * Home page.\n",
    "           * List all routes that are available.\n",
    "       * `/api/v1.0/precipitation`\n",
    "           * Convert the query results to a Dictionary using `date` as the key and `prcp` as the value.\n",
    "           * Return the JSON representation of your dictionary.\n",
    "       * `/api/v1.0/stations`\n",
    "           * Return a JSON list of stations from the dataset.\n",
    "       * `/api/v1.0/tobs`\n",
    "           * Query the dates and temperature observations of the most active station for the last year of data.\n",
    "           * Return a JSON list of Temperature Observations (tobs) for the previous year\n",
    "       * `/api/v1.0/<start>` and `/api/v1.0/<start>/<end>`\n",
    "           * Return a JSON list of the minimum temperature, the average temperature, and\n",
    "               the max temperature for a given start or start-end range.\n",
    "           * When given the start only, calculate `TMIN`, `TAVG`, and `TMAX` for all dates \n",
    "               greater than and equal to the start date.\n",
    "           * When given the start and the end date, calculate the `TMIN`, `TAVG`, and `TMAX` \n",
    "               for dates between the start and end date inclusive."
   ]
  },
  {
   "cell_type": "code",
   "execution_count": 18,
   "metadata": {},
   "outputs": [],
   "source": [
    "# Import Dependencies \n",
    "import pandas as pd\n",
    "import numpy as np\n",
    "\n",
    "import datetime as dt\n",
    "\n",
    "import sqlalchemy\n",
    "from sqlalchemy.ext.automap import automap_base\n",
    "from sqlalchemy.orm import Session\n",
    "from sqlalchemy import create_engine, func\n",
    "\n",
    "from flask import Flask, jsonify"
   ]
  },
  {
   "cell_type": "code",
   "execution_count": 19,
   "metadata": {},
   "outputs": [],
   "source": [
    "# Database setup\n",
    "engine = create_engine(\"sqlite:///Resources/hawaii.sqlite\")\n",
    "\n",
    "# Reflect an existing database into a new model\n",
    "Base = automap_base()\n",
    "\n",
    "# Reflect the tables\n",
    "Base.prepare(engine, reflect=True)\n",
    "\n",
    "# Save reference to the tables\n",
    "Measurement = Base.classes.measurement\n",
    "Station = Base.classes.station\n",
    "\n",
    "# Create our session (link) from Python to the DB\n",
    "session = Session(engine)\n",
    "\n",
    "# Flask Setup:\n",
    "app = Flask(__name__)"
   ]
  },
  {
   "cell_type": "code",
   "execution_count": 20,
   "metadata": {},
   "outputs": [],
   "source": [
    "# Home page.\n",
    "# List all routes that are available.\n",
    "\n",
    "@app.route(\"/\")\n",
    "def home_page():\n",
    "    return (\n",
    "        f\"<div align='center'><h1>Climate App</h1><br/></div>\"\n",
    "        f\"<br/>\"\n",
    "        f\"/api/v1.0/precipitation<br/>\"\n",
    "        f\"<br/>\"\n",
    "        f\"/api/v1.0/stations<br/>\"\n",
    "        f\"<br/>\"\n",
    "        f\"/api/v1.0/tobs<br/>\"\n",
    "        f\"<br/>\"\n",
    "        f\"/api/v1.0/<start><br/>\"\n",
    "        f\"Put the start date in 'YYYY-MM-DD' format<br/>\"\n",
    "        f\"<br/>\"\n",
    "        f\"/api/v1.0/<start>/<end><br/>\"   \n",
    "        f\"Put the dates in 'YYYY-MM-DD/YYYY-MM-DD' format<br/>\"\n",
    "        )"
   ]
  },
  {
   "cell_type": "code",
   "execution_count": 21,
   "metadata": {},
   "outputs": [],
   "source": [
    "# Convert the query results to a dictionary using date as the key and prcp as the value.\n",
    "# Return the JSON representation of your dictionary.\n",
    "\n",
    "@app.route(\"/api/v1.0/precipitation\")  \n",
    "def prcp():\n",
    "    prev_year = dt.date(2017,8,23) - dt.timedelta(days = 365)\n",
    "    start_date = session.query(Measurement.date).order_by(Measurement.date.desc()).first()\n",
    "    prcp = session.query(Measurement.date, Measurement.prcp).\\\n",
    "                                       filter(Measurement.date <= End_date).\\\n",
    "                                       filter(Measurement.date >= Start_date).all()                                                                  \n",
    "\n",
    "    list = []\n",
    "    for i in prcp:\n",
    "        dict ={\"Date:\":prcp[0], \"Precipitation:\":prcp[1]}\n",
    "        list.append(dict)\n",
    "    return jsonify(list)"
   ]
  },
  {
   "cell_type": "code",
   "execution_count": 22,
   "metadata": {},
   "outputs": [],
   "source": [
    "## Return a JSON list of stations from the dataset.\n",
    "@app.route(\"/api/v1.0/stations\")\n",
    "def stations():\n",
    "    stations = session.query(Station.station,Station.name).all()\n",
    "    \n",
    "    list=[]\n",
    "    for station in stations:\n",
    "        dict = {\"Station ID:\":stations[0],\"Station Name\":stations[1]}\n",
    "        list.append(dict)\n",
    "    return jsonify(list)"
   ]
  },
  {
   "cell_type": "code",
   "execution_count": 23,
   "metadata": {},
   "outputs": [],
   "source": [
    "# Query the dates and temperature observations of the most active station for the last year of data.\n",
    "# Return a JSON list of Temperature Observations (tobs) for the previous year.\n",
    "\n",
    "@app.route(\"/api/v1.0/tobs\")\n",
    "def tobs():\n",
    "    prev_year = dt.date(2017, 8, 23) - dt.timedelta(days=365)\n",
    "    tobs = session.query(Measurement.date, Measurement.tobs).\\\n",
    "    filter(Measurement.station == 'USC00519281', Measurement.date >= prev_year).all()\n",
    "    \n",
    "    list = []\n",
    "    for temp in tobs:\n",
    "        dict = {'date': temp[0], \"tobs\": temp[1]}\n",
    "        list.append(dict)\n",
    "    return jsonify(list)"
   ]
  },
  {
   "cell_type": "code",
   "execution_count": 24,
   "metadata": {},
   "outputs": [],
   "source": [
    "# Return a JSON list of the minimum temperature, the average temperature, and the max temperature for \n",
    "# a given start or start-end range.\n",
    "# When given the start only, calculate TMIN, TAVG, and TMAX for all dates greater than and equal to the start date.\n",
    "# When given the start and the end date, calculate the TMIN, TAVG, and TMAX for dates between the start and end date inclusive.\n",
    "\n",
    "@app.route(\"/api/v1.0/<start>\")\n",
    "def temp_start(start):\n",
    "    results = session.query(func.min(Measurement.tobs), func.avg(Measurement.tobs), func.max(Measurement.tobs)).\\\n",
    "              filter(Measurement.date >= start).order_by(Measurement.date.desc()).all()\n",
    "\n",
    "    list = []\n",
    "    print(f\"Temperature Analysis for the dates greater than or equal to the start date\")\n",
    "    for temps in results:\n",
    "        dict = {\"Minimum Temp\":results[0][0],\"Average Temp\":results[0][1],\"Maximum Temp\":results[0][2]}\n",
    "        list.append(dict)\n",
    "    return jsonify(list)"
   ]
  },
  {
   "cell_type": "code",
   "execution_count": 25,
   "metadata": {},
   "outputs": [],
   "source": [
    "@app.route(\"/api/v1.0/<start>/<end>\")\n",
    "def start_end(start,end):\n",
    "    results = session.query(func.min(Measurement.tobs), func.avg(Measurement.tobs),func.max(Measurement.tobs)).\\\n",
    "                  filter(Measurement.date >= start, Measurement.date <= end).order_by(Measurement.date.desc()).all()\n",
    "    print(f\"Temperature Analysis for the dates greater than or equal to the start date and lesser than or equal to the end date\")\n",
    "    for temps in results:\n",
    "        dict = {\"Minimum Temp\":results[0][0],\"Average Temp\":results[0][1],\"Maximum Temp\":results[0][2]}\n",
    "    return jsonify(dict)   "
   ]
  },
  {
   "cell_type": "code",
   "execution_count": null,
   "metadata": {},
   "outputs": [],
   "source": [
    "if __name__ == \"__main__\":\n",
    "    app.run(debug=True)"
   ]
  }
 ],
 "metadata": {
  "kernelspec": {
   "display_name": "Python 3",
   "language": "python",
   "name": "python3"
  },
  "language_info": {
   "codemirror_mode": {
    "name": "ipython",
    "version": 3
   },
   "file_extension": ".py",
   "mimetype": "text/x-python",
   "name": "python",
   "nbconvert_exporter": "python",
   "pygments_lexer": "ipython3",
   "version": "3.8.5"
  }
 },
 "nbformat": 4,
 "nbformat_minor": 4
}
